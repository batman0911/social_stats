{
 "cells": [
  {
   "cell_type": "markdown",
   "metadata": {},
   "source": [
    "# Ước lượng Bayes cho tham số của phân phối Poisson\n",
    "*Nguyễn Mạnh Linh - KHDL - K4*"
   ]
  },
  {
   "cell_type": "markdown",
   "metadata": {},
   "source": [
    "## Phân phối của dữ liệu (likelihood)\n",
    "\n",
    "$X$ là biến ngẫu nhiên chỉ số con sinh ra có phân bố Poisson\n",
    "$X$ nhận các giá trị cụ thể là $\\{X_1, X_2,... ,X_N\\}$, trong đó $N$ là số điểm dữ liệu. \n",
    "\n",
    "$$\n",
    "\\begin{equation}\n",
    "\\tag{1}\n",
    "  p( = X_i | \\lambda) = \\frac{\\lambda ^{X_i} e^{-\\lambda}}{X_i !}\n",
    "\\end{equation}\n",
    "$$\n",
    "Giả thiết các quan sát là độc lập với nhau, khi đó phân bố đồng thời của dữ liệu hay likelihood có dạng như sau:\n",
    "$$\n",
    "\\begin{equation}\n",
    "\\tag{2}\n",
    "\\begin{split}\n",
    "  L(\\lambda; X) &= \\prod_{i=1}^N p(X = X_i | \\lambda) \\\\ \n",
    "  &= \\prod_{i=1}^N \\frac{\\lambda ^{X_i} e^{-\\lambda}}{X_i!} = e^{-N\\lambda} \\prod_{i=1}^N \\frac{\\lambda ^{X_i}}{X_i!} \\\\\n",
    "  &=  e^{-N\\lambda} \\frac{\\lambda ^ {\\sum_{i=1}^N X_i}}{\\prod_{i=1}^N X_i!}\n",
    "\\end{split}\n",
    "\\end{equation}\n",
    "$$"
   ]
  },
  {
   "cell_type": "markdown",
   "metadata": {},
   "source": [
    "## Phân phối của hậu nghiệm"
   ]
  },
  {
   "cell_type": "markdown",
   "metadata": {},
   "source": [
    "### Phân phối tiên nghiệm là phân phối đều\n",
    "Giả thiết phân bố tiên nghiệm là đều, ta cần ước lượng cho phân bố của $\\lambda$ là tỉ lệ sinh trung bình với $0 \\leq \\lambda \\leq c$. Ta có hàm mật độ xác suất của $\\lambda$:\n",
    "$$\n",
    "\\tag{3}\n",
    "f(\\lambda) = \\frac{\\lambda}{c}\n",
    "$$\n",
    "\n",
    "Ta có phân bố hậu nghiệm như sau:\n",
    "$$\n",
    "\\tag{4}\n",
    "p(\\lambda | X) \\propto L(\\lambda; X) f(\\lambda) \\propto e^{-N\\lambda} \\frac{\\lambda ^ {1 + \\sum_{i=1}^N X_i}}{\\prod_{i=1}^N X_i!} \\propto Gamma (\\alpha, \\beta)\n",
    "$$\n",
    "Trong đó $\\alpha = $ và $\\beta = $\n",
    "\n",
    "Như vậy hậu nghiệm có phân bố Gamma"
   ]
  },
  {
   "cell_type": "markdown",
   "metadata": {},
   "source": [
    "### Phân phối tiên nghiệm là phân phối Gamma\n",
    "Với phân bố của tiên nghiệm là phân bố Gamma, hàm mật độ xác suất cho $\\lambda$:\n",
    "$$\n",
    "\\begin{equation}\n",
    "\\tag{5}\n",
    "f(\\lambda; \\alpha, \\beta) = \\frac{\\lambda ^ {\\alpha - 1} e^{-\\beta \\lambda} \\beta ^ {\\alpha}}{\\Gamma(\\alpha)} \n",
    "\\end{equation}\n",
    "$$\n",
    "cho $\\lambda > 0$ với $\\alpha > 0$, $\\beta > 0$\n",
    "\n",
    "Ta có phân bố hậu nghiệm như sau:\n",
    "$$\n",
    "\\begin{equation}\n",
    "\\tag{6}\n",
    "p(\\lambda | X) \\propto L(\\lambda; X) f(\\lambda; \\alpha, \\beta) \\propto e^{-N\\lambda} \\frac{\\lambda ^ {\\sum_{i=1}^N X_i}}{\\prod_{i=1}^N X_i!} \\times \\lambda ^ {\\alpha - 1} e^{-\\beta \\lambda}\n",
    "\\end{equation}\n",
    "$$"
   ]
  },
  {
   "cell_type": "markdown",
   "metadata": {},
   "source": [
    "## Đặc điểm của các phân phối hậu nghiệm"
   ]
  }
 ],
 "metadata": {
  "kernelspec": {
   "display_name": "Python 3 (ipykernel)",
   "language": "python",
   "name": "python3"
  },
  "language_info": {
   "codemirror_mode": {
    "name": "ipython",
    "version": 3
   },
   "file_extension": ".py",
   "mimetype": "text/x-python",
   "name": "python",
   "nbconvert_exporter": "python",
   "pygments_lexer": "ipython3",
   "version": "3.10.10"
  }
 },
 "nbformat": 4,
 "nbformat_minor": 4
}
