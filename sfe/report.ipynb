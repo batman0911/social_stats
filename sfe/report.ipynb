{
 "cells": [
  {
   "cell_type": "markdown",
   "metadata": {},
   "source": [
    "# Ước lượng Bayes cho tham số của phân phối Poisson\n",
    "*Nguyễn Mạnh Linh - KHDL - K4*"
   ]
  },
  {
   "cell_type": "markdown",
   "metadata": {},
   "source": [
    "## Phân phối của dữ liệu (likelihood)\n",
    "\n",
    "Giả sử các điểm dữ liệu (số con sinh ra) là $\\{X_1, X_2,... ,X_N\\}$, trong đó $N$ là số điểm dữ liệu. \n",
    "$X$ là biến ngẫu nhiên chỉ số con sinh ra.\n",
    "$X$ có phân bố Poisson với\n",
    "$$\n",
    "\\begin{equation}\n",
    "\\tag{1}\n",
    "  p(\\mathbf{X} = k | \\lambda) = \\frac{\\lambda ^k e^{-\\lambda}}{k!}\n",
    "\\end{equation}\n",
    "$$\n",
    "Giả thiết các quan sát là độc lập với nhau, khi đó phân bố đồng thời của dữ liệu hay likelihood có dạng như sau:\n",
    "$$\n",
    "\\begin{equation}\n",
    "\\tag{2}\n",
    "\\begin{split}\n",
    "  p(X_1=k_1, X_2=k_2,... ,X_N=k_N | \\lambda) &= \\prod_{i=1}^N p(X_i = k_i | \\lambda) \\\\ \n",
    "  = \\prod_{i=1}^N \\frac{\\lambda ^{k_i} e^{-\\lambda}}{k_i!} &= e^{-N\\lambda} \\prod_{i=1}^N \\frac{\\lambda ^{k_i}}{k_i!}\n",
    "\\end{split}\n",
    "\\end{equation}\n",
    "$$"
   ]
  },
  {
   "cell_type": "markdown",
   "metadata": {},
   "source": [
    "## Phân phối của hậu nghiệm"
   ]
  },
  {
   "cell_type": "markdown",
   "metadata": {},
   "source": [
    "### Phân phối tiên nghiệm là đều"
   ]
  },
  {
   "cell_type": "markdown",
   "metadata": {},
   "source": [
    "### Phân phối tiên nghiệm là phân phối Gamma"
   ]
  },
  {
   "cell_type": "markdown",
   "metadata": {},
   "source": [
    "## Đặc điểm của các phân phối hậu nghiệm"
   ]
  }
 ],
 "metadata": {
  "kernelspec": {
   "display_name": "Python 3 (ipykernel)",
   "language": "python",
   "name": "python3"
  },
  "language_info": {
   "codemirror_mode": {
    "name": "ipython",
    "version": 3
   },
   "file_extension": ".py",
   "mimetype": "text/x-python",
   "name": "python",
   "nbconvert_exporter": "python",
   "pygments_lexer": "ipython3",
   "version": "3.10.8"
  }
 },
 "nbformat": 4,
 "nbformat_minor": 4
}
