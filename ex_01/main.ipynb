{
 "cells": [
  {
   "attachments": {},
   "cell_type": "markdown",
   "metadata": {},
   "source": [
    "# Hút thuốc khi mang thai và sức khỏe trẻ sơ sinh\n",
    "\n",
    "## Vấn đề / Câu hỏi cần nghiên cứu\n",
    "- Hút thuốc trong thai kì có thể dẫn đến những tổn thương cho thai nhi, sinh non hoặc trẻ bị nhẹ cân khi sinh\n",
    "- Trong bài báo cáo này, chúng ta sẽ so sánh cân nặng của trẻ sơ sinh được sinh ra bởi người mẹ hút thuốc và không hút thuốc để chứng thực cảnh báo của Surgeon General (cảnh báo trên)\n",
    "\n",
    "## Dữ liệu\n",
    "- Dữ liệu được cung cấp là một phần của Child Health and Development Studies (CHDS) - dữ liệu thống kê từ tất cả các ca mang thai từ năm 1960 đến 1967 của phụ nữ thuộc Kaiser Foundation Health Plan, khu vực San Francisco–East Bay\n",
    "- Dữ liệu trong bài này là một phần của tập trên, tính riêng cho vùng Oakland, California\n",
    "\n",
    "## Cơ sở và phương pháp nghiên cứu\n"
   ]
  },
  {
   "attachments": {},
   "cell_type": "markdown",
   "metadata": {},
   "source": [
    "## Câu hỏi"
   ]
  },
  {
   "attachments": {},
   "cell_type": "markdown",
   "metadata": {},
   "source": [
    "### Ex 01"
   ]
  },
  {
   "cell_type": "code",
   "execution_count": 8,
   "metadata": {},
   "outputs": [],
   "source": [
    "import numpy as np"
   ]
  },
  {
   "cell_type": "code",
   "execution_count": 9,
   "metadata": {},
   "outputs": [],
   "source": [
    "\n",
    "labels = [[0, 5], \n",
    "          [5, 10], \n",
    "          [10, 15], \n",
    "          [15, 20], \n",
    "          [20, 30], \n",
    "          [30, 40],\n",
    "          [40, 60]]\n",
    "\n",
    "v = [16, 25, 14, 4, 32, 5, 4]\n",
    "v = [int(round(i/100 * 484, 0)) for i in v]\n",
    "\n",
    "dat = []\n",
    "for i in range(len(labels)):\n",
    "  dat += [i] * v[i]\n",
    "  \n",
    "data = np.array(dat)"
   ]
  },
  {
   "cell_type": "code",
   "execution_count": 10,
   "metadata": {},
   "outputs": [
    {
     "name": "stdout",
     "output_type": "stream",
     "text": [
      "quantile 0.25 \t : \t [5, 10]\n",
      "quantile 0.5 \t : \t [10, 15]\n",
      "quantile 0.75 \t : \t [20, 30]\n"
     ]
    },
    {
     "data": {
      "text/plain": [
       "array([1., 2., 4.])"
      ]
     },
     "execution_count": 10,
     "metadata": {},
     "output_type": "execute_result"
    }
   ],
   "source": [
    "import numpy as np\n",
    "\n",
    "prb = [0.25, 0.5, 0.75]\n",
    "qt = np.quantile(data, prb)\n",
    "for j in range(len(prb)):\n",
    "  print(f'quantile {prb[j]} \\t : \\t {labels[int(qt[j])]}')\n",
    "qt\n"
   ]
  },
  {
   "attachments": {},
   "cell_type": "markdown",
   "metadata": {},
   "source": [
    "### Ex 02\n",
    "Ta thấy rằng, các cột tương ứng với số lượng nhỏ hơn 15 không thay đổi, ngược lại do đã gộp các dữ liệu lớn hơn 15 nên phần diện tích ứng với đoạn [15, 60] tăng lên đáng kể"
   ]
  },
  {
   "cell_type": "code",
   "execution_count": 11,
   "metadata": {},
   "outputs": [
    {
     "data": {
      "image/png": "[encoded data removed]",
      "text/plain": [
       "<Figure size 640x480 with 1 Axes>"
      ]
     },
     "metadata": {},
     "output_type": "display_data"
    }
   ],
   "source": [
    "import matplotlib.pyplot as plt\n",
    "\n",
    "combine_labels = [[0, 5], \n",
    "          [5, 10], \n",
    "          [10, 15], \n",
    "          [15, 60]]\n",
    "\n",
    "v = [16, 25, 14, 45]\n",
    "# v = [int(round(i/100 * 484, 0)) for i in v]\n",
    "\n",
    "c = [v[i]/(combine_labels[i][1] - combine_labels[i][0]) for i in range(len(v))]\n",
    "x = [2.5, 7.5, 12.5, 37.5]\n",
    "widths = [5, 5, 5, 45]\n",
    "\n",
    "fig, ax = plt.subplots()\n",
    "ax.bar(x, c, width=widths)\n",
    "plt.xlabel('Số điếu thuốc trên ngày')\n",
    "plt.ylabel('Phần trăm trên điếu thuốc')\n",
    "plt.show()\n",
    "  "
   ]
  },
  {
   "attachments": {},
   "cell_type": "markdown",
   "metadata": {},
   "source": [
    "### Ex 03\n",
    "Do tổng diện tích của các cột bằng 1 và chiều rộng của cột bị thiếu bằng 5 nên ta có thể tính được chiều cao của cột theo công thức dưới đây"
   ]
  },
  {
   "cell_type": "code",
   "execution_count": 12,
   "metadata": {},
   "outputs": [
    {
     "data": {
      "text/plain": [
       "0.030000000000000006"
      ]
     },
     "execution_count": 12,
     "metadata": {},
     "output_type": "execute_result"
    }
   ],
   "source": [
    "h = (1 - (2*0.5 + 2*2 + 2*4.5 + 2*6.5 + 4*6 + 5*4.8 + 10*0.9 + 10*0.1)/100)/5\n",
    "h"
   ]
  },
  {
   "attachments": {},
   "cell_type": "markdown",
   "metadata": {},
   "source": [
    "### Ex 04\n",
    "Đường quantiles tương đối thẳng nên ta có thể nói rằng phân bố chiều cao và cân nặng của người cha tuân theo phân bố chuẩn"
   ]
  },
  {
   "attachments": {},
   "cell_type": "markdown",
   "metadata": {},
   "source": [
    "### Ex 05"
   ]
  },
  {
   "attachments": {},
   "cell_type": "markdown",
   "metadata": {},
   "source": [
    "### Ex 06\n",
    "Chúng ta có thể load dữ liệu lên rồi đếm số người có chiều cao trong các khoảng tương ứng."
   ]
  },
  {
   "cell_type": "code",
   "execution_count": 13,
   "metadata": {},
   "outputs": [
    {
     "data": {
      "text/plain": [
       "0.3977853492333901"
      ]
     },
     "execution_count": 13,
     "metadata": {},
     "output_type": "execute_result"
    }
   ],
   "source": [
    "import pandas as pd\n",
    "\n",
    "df = pd.read_csv('../data/babies.csv')\n",
    "df = df.dropna()\n",
    "\n",
    "df = df.astype('int32')\n",
    "\n",
    "df2 = df.query('height < 64.5 & height > 61.5')\n",
    "\n",
    "df2.size / df.size"
   ]
  },
  {
   "attachments": {},
   "cell_type": "markdown",
   "metadata": {},
   "source": [
    "Ước lượng với xấp xỉ phân bố chuẩn\n",
    "$p = \\Phi(\\frac{64.5 - 64}{2.5}) - \\Phi(\\frac{61.5 - 64}{2.5})$"
   ]
  },
  {
   "cell_type": "code",
   "execution_count": 14,
   "metadata": {},
   "outputs": [
    {
     "data": {
      "text/plain": [
       "0.4206044555076459"
      ]
     },
     "execution_count": 14,
     "metadata": {},
     "output_type": "execute_result"
    }
   ],
   "source": [
    "from scipy.stats import norm\n",
    "\n",
    "prob = norm(loc = 64, scale = 2.5).cdf(64.5) - norm(loc = 64, scale = 2.5).cdf(61.5)\n",
    "prob"
   ]
  },
  {
   "attachments": {},
   "cell_type": "markdown",
   "metadata": {},
   "source": [
    "### Ex 7"
   ]
  },
  {
   "attachments": {},
   "cell_type": "markdown",
   "metadata": {},
   "source": [
    "### Ex 8"
   ]
  },
  {
   "attachments": {},
   "cell_type": "markdown",
   "metadata": {},
   "source": [
    "### Ex 9"
   ]
  },
  {
   "cell_type": "code",
   "execution_count": 15,
   "metadata": {},
   "outputs": [
    {
     "data": {
      "text/plain": [
       "[73, 45, 45, 71, 85, 57, 56, 66, 77, 79, 74]"
      ]
     },
     "execution_count": 15,
     "metadata": {},
     "output_type": "execute_result"
    }
   ],
   "source": [
    "categories = ['Married', 'Single', 'Under 12', '12', 'Over 12', 'Under 18', '18–19', '20–24', '25–29', '30–34', 'Over 34']\n",
    "percent_mothers = [90, 10, 21, 46, 33, 5, 9, 35, 32, 15, 4]\n",
    "percent_smokers = [27, 55, 55, 29, 15, 43, 44, 34, 23, 21, 26]\n",
    "percent_non_smokers = [100 - i for i in percent_smokers]\n",
    "percent_non_smokers"
   ]
  },
  {
   "attachments": {},
   "cell_type": "markdown",
   "metadata": {},
   "source": [
    "### Ex 10"
   ]
  },
  {
   "cell_type": "code",
   "execution_count": 19,
   "metadata": {},
   "outputs": [
    {
     "data": {
      "image/png": "[encoded data removed]",
      "text/plain": [
       "<Figure size 640x480 with 1 Axes>"
      ]
     },
     "metadata": {},
     "output_type": "display_data"
    }
   ],
   "source": [
    "import matplotlib.pyplot as plt\n",
    "import numpy as np\n",
    "\n",
    "education_categories = ['Under 12', '12', 'Over 12']\n",
    "percent_mothers = [21, 46, 33]\n",
    "percent_smokers = [55, 29, 15]\n",
    "percent_non_smokers = [100 - i for i in percent_smokers]\n",
    "\n",
    "weight = {\n",
    "  'smokers': percent_smokers,\n",
    "  'non smokers': percent_non_smokers\n",
    "}\n",
    "\n",
    "width = 0.5\n",
    "\n",
    "fig, ax = plt.subplots()\n",
    "bottom = np.zeros(3)\n",
    "for boolean, w in weight.items():\n",
    "    p = ax.bar(education_categories, w, width, label=boolean, bottom=bottom)\n",
    "    bottom += w\n",
    "\n",
    "ax.legend(loc=\"upper right\")\n",
    "plt.title('education level')\n",
    "plt.xlabel('education level')\n",
    "plt.ylabel('percentage for smokers')\n",
    "plt.show()"
   ]
  }
 ],
 "metadata": {
  "kernelspec": {
   "display_name": "venv",
   "language": "python",
   "name": "python3"
  },
  "language_info": {
   "codemirror_mode": {
    "name": "ipython",
    "version": 3
   },
   "file_extension": ".py",
   "mimetype": "text/x-python",
   "name": "python",
   "nbconvert_exporter": "python",
   "pygments_lexer": "ipython3",
   "version": "3.10.8"
  },
  "orig_nbformat": 4
 },
 "nbformat": 4,
 "nbformat_minor": 2
}
