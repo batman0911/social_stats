{
 "cells": [
  {
   "attachments": {},
   "cell_type": "markdown",
   "metadata": {},
   "source": [
    "# Hút thuốc khi mang thai và sức khỏe trẻ sơ sinh\n",
    "\n",
    "## Vấn đề / Câu hỏi cần nghiên cứu\n",
    "- Hút thuốc trong thai kì có thể dẫn đến những tổn thương cho thai nhi, sinh non hoặc trẻ bị nhẹ cân khi sinh\n",
    "- Trong bài báo cáo này, chúng ta sẽ so sánh cân nặng của trẻ sơ sinh được sinh ra bởi người mẹ hút thuốc và không hút thuốc để chứng thực cảnh báo của Surgeon General (cảnh báo trên)\n",
    "\n",
    "## Dữ liệu\n",
    "- Dữ liệu được cung cấp là một phần của Child Health and Development Studies (CHDS) - dữ liệu thống kê từ tất cả các ca mang thai từ năm 1960 đến 1967 của phụ nữ thuộc Kaiser Foundation Health Plan, khu vực San Francisco–East Bay\n",
    "- Dữ liệu trong bài này là một phần của tập trên, tính riêng cho vùng Oakland, California\n",
    "\n",
    "## Cơ sở và phương pháp nghiên cứu\n"
   ]
  },
  {
   "attachments": {},
   "cell_type": "markdown",
   "metadata": {},
   "source": [
    "## Câu hỏi"
   ]
  },
  {
   "attachments": {},
   "cell_type": "markdown",
   "metadata": {},
   "source": [
    "### Ex 01"
   ]
  },
  {
   "cell_type": "code",
   "execution_count": 38,
   "metadata": {},
   "outputs": [],
   "source": [
    "import numpy as np"
   ]
  },
  {
   "cell_type": "code",
   "execution_count": 39,
   "metadata": {},
   "outputs": [],
   "source": [
    "\n",
    "labels = [[0, 5], \n",
    "          [5, 10], \n",
    "          [10, 15], \n",
    "          [15, 20], \n",
    "          [20, 30], \n",
    "          [30, 40],\n",
    "          [40, 60]]\n",
    "\n",
    "v = [16, 25, 14, 4, 32, 5, 4]\n",
    "v = [int(round(i/100 * 484, 0)) for i in v]\n",
    "\n",
    "dat = []\n",
    "for i in range(len(labels)):\n",
    "  dat += [i] * v[i]\n",
    "  \n",
    "data = np.array(dat)"
   ]
  },
  {
   "cell_type": "code",
   "execution_count": 40,
   "metadata": {},
   "outputs": [
    {
     "name": "stdout",
     "output_type": "stream",
     "text": [
      "quantile 0.25 \t : \t [5, 10]\n",
      "quantile 0.5 \t : \t [10, 15]\n",
      "quantile 0.75 \t : \t [20, 30]\n"
     ]
    },
    {
     "data": {
      "text/plain": [
       "array([1., 2., 4.])"
      ]
     },
     "execution_count": 40,
     "metadata": {},
     "output_type": "execute_result"
    }
   ],
   "source": [
    "import numpy as np\n",
    "\n",
    "prb = [0.25, 0.5, 0.75]\n",
    "qt = np.quantile(data, prb)\n",
    "for j in range(len(prb)):\n",
    "  print(f'quantile {prb[j]} \\t : \\t {labels[int(qt[j])]}')\n",
    "qt\n"
   ]
  },
  {
   "attachments": {},
   "cell_type": "markdown",
   "metadata": {},
   "source": [
    "### Ex 02\n",
    "Ta thấy rằng, các cột tương ứng với số lượng nhỏ hơn 15 không thay đổi, ngược lại do đã gộp các dữ liệu lớn hơn 15 nên phần diện tích ứng với đoạn [15, 60] tăng lên đáng kể"
   ]
  },
  {
   "cell_type": "code",
   "execution_count": 41,
   "metadata": {},
   "outputs": [
    {
     "data": {
      "image/png": "[encoded data removed]",
      "text/plain": [
       "<Figure size 640x480 with 1 Axes>"
      ]
     },
     "metadata": {},
     "output_type": "display_data"
    }
   ],
   "source": [
    "import matplotlib.pyplot as plt\n",
    "\n",
    "combine_labels = [[0, 5], \n",
    "          [5, 10], \n",
    "          [10, 15], \n",
    "          [15, 60]]\n",
    "\n",
    "v = [16, 25, 14, 45]\n",
    "# v = [int(round(i/100 * 484, 0)) for i in v]\n",
    "\n",
    "c = [v[i]/(combine_labels[i][1] - combine_labels[i][0]) for i in range(len(v))]\n",
    "x = [2.5, 7.5, 12.5, 37.5]\n",
    "widths = [5, 5, 5, 45]\n",
    "\n",
    "fig, ax = plt.subplots()\n",
    "ax.bar(x, c, width=widths)\n",
    "plt.xlabel('Số điếu thuốc trên ngày')\n",
    "plt.ylabel('Phần trăm trên điếu thuốc')\n",
    "plt.show()\n",
    "  "
   ]
  },
  {
   "attachments": {},
   "cell_type": "markdown",
   "metadata": {},
   "source": [
    "### Ex 03\n",
    "Do tổng diện tích của các cột bằng 1 và chiều rộng của cột bị thiếu bằng 5 nên ta có thể tính được chiều cao của cột theo công thức dưới đây"
   ]
  },
  {
   "cell_type": "code",
   "execution_count": 42,
   "metadata": {},
   "outputs": [
    {
     "data": {
      "text/plain": [
       "0.030000000000000006"
      ]
     },
     "execution_count": 42,
     "metadata": {},
     "output_type": "execute_result"
    }
   ],
   "source": [
    "h = (1 - (2*0.5 + 2*2 + 2*4.5 + 2*6.5 + 4*6 + 5*4.8 + 10*0.9 + 10*0.1)/100)/5\n",
    "h"
   ]
  },
  {
   "attachments": {},
   "cell_type": "markdown",
   "metadata": {},
   "source": [
    "### Ex 04\n",
    "Đường quantiles tương đối thẳng nên ta có thể nói rằng phân bố chiều cao và cân nặng của người cha tuân theo phân bố chuẩn"
   ]
  },
  {
   "attachments": {},
   "cell_type": "markdown",
   "metadata": {},
   "source": [
    "### Ex 05"
   ]
  },
  {
   "attachments": {},
   "cell_type": "markdown",
   "metadata": {},
   "source": [
    "### Ex 06\n",
    "Chúng ta có thể load dữ liệu lên rồi đếm số người có chiều cao trong các khoảng tương ứng.\n",
    "Tỉ lệ cần tìm là thương của 2 số này."
   ]
  },
  {
   "cell_type": "code",
   "execution_count": 53,
   "metadata": {},
   "outputs": [
    {
     "data": {
      "text/plain": [
       "0.34475374732334046"
      ]
     },
     "execution_count": 53,
     "metadata": {},
     "output_type": "execute_result"
    }
   ],
   "source": [
    "import pandas as pd\n",
    "\n",
    "df = pd.read_csv('../data/babies.csv')\n",
    "df = df.dropna()\n",
    "df = df.astype('int32')\n",
    "\n",
    "df1 = df.query('height < 64 & height > 62')\n",
    "df2 = df.query('height < 64.5 & height > 61.5')\n",
    "\n",
    "df1.size / df2.size"
   ]
  },
  {
   "cell_type": "code",
   "execution_count": 46,
   "metadata": {},
   "outputs": [
    {
     "name": "stdout",
     "output_type": "stream",
     "text": [
      "<class 'pandas.core.frame.DataFrame'>\n",
      "Index: 1174 entries, 0 to 1235\n",
      "Data columns (total 8 columns):\n",
      " #   Column     Non-Null Count  Dtype\n",
      "---  ------     --------------  -----\n",
      " 0   case       1174 non-null   int32\n",
      " 1   bwt        1174 non-null   int32\n",
      " 2   gestation  1174 non-null   int32\n",
      " 3   parity     1174 non-null   int32\n",
      " 4   age        1174 non-null   int32\n",
      " 5   height     1174 non-null   int32\n",
      " 6   weight     1174 non-null   int32\n",
      " 7   smoke      1174 non-null   int32\n",
      "dtypes: int32(8)\n",
      "memory usage: 45.9 KB\n"
     ]
    }
   ],
   "source": [
    "df = df.astype('int32')\n",
    "df.info()"
   ]
  },
  {
   "cell_type": "code",
   "execution_count": 45,
   "metadata": {},
   "outputs": [
    {
     "data": {
      "text/html": [
       "<div>\n",
       "<style scoped>\n",
       "    .dataframe tbody tr th:only-of-type {\n",
       "        vertical-align: middle;\n",
       "    }\n",
       "\n",
       "    .dataframe tbody tr th {\n",
       "        vertical-align: top;\n",
       "    }\n",
       "\n",
       "    .dataframe thead th {\n",
       "        text-align: right;\n",
       "    }\n",
       "</style>\n",
       "<table border=\"1\" class=\"dataframe\">\n",
       "  <thead>\n",
       "    <tr style=\"text-align: right;\">\n",
       "      <th></th>\n",
       "      <th>case</th>\n",
       "      <th>bwt</th>\n",
       "      <th>gestation</th>\n",
       "      <th>parity</th>\n",
       "      <th>age</th>\n",
       "      <th>height</th>\n",
       "      <th>weight</th>\n",
       "      <th>smoke</th>\n",
       "    </tr>\n",
       "  </thead>\n",
       "  <tbody>\n",
       "    <tr>\n",
       "      <th>0</th>\n",
       "      <td>1</td>\n",
       "      <td>120</td>\n",
       "      <td>284</td>\n",
       "      <td>0</td>\n",
       "      <td>27</td>\n",
       "      <td>62</td>\n",
       "      <td>100</td>\n",
       "      <td>0</td>\n",
       "    </tr>\n",
       "    <tr>\n",
       "      <th>1</th>\n",
       "      <td>2</td>\n",
       "      <td>113</td>\n",
       "      <td>282</td>\n",
       "      <td>0</td>\n",
       "      <td>33</td>\n",
       "      <td>64</td>\n",
       "      <td>135</td>\n",
       "      <td>0</td>\n",
       "    </tr>\n",
       "    <tr>\n",
       "      <th>2</th>\n",
       "      <td>3</td>\n",
       "      <td>128</td>\n",
       "      <td>279</td>\n",
       "      <td>0</td>\n",
       "      <td>28</td>\n",
       "      <td>64</td>\n",
       "      <td>115</td>\n",
       "      <td>1</td>\n",
       "    </tr>\n",
       "    <tr>\n",
       "      <th>4</th>\n",
       "      <td>5</td>\n",
       "      <td>108</td>\n",
       "      <td>282</td>\n",
       "      <td>0</td>\n",
       "      <td>23</td>\n",
       "      <td>67</td>\n",
       "      <td>125</td>\n",
       "      <td>1</td>\n",
       "    </tr>\n",
       "    <tr>\n",
       "      <th>5</th>\n",
       "      <td>6</td>\n",
       "      <td>136</td>\n",
       "      <td>286</td>\n",
       "      <td>0</td>\n",
       "      <td>25</td>\n",
       "      <td>62</td>\n",
       "      <td>93</td>\n",
       "      <td>0</td>\n",
       "    </tr>\n",
       "  </tbody>\n",
       "</table>\n",
       "</div>"
      ],
      "text/plain": [
       "   case  bwt  gestation  parity  age  height  weight  smoke\n",
       "0     1  120        284       0   27      62     100      0\n",
       "1     2  113        282       0   33      64     135      0\n",
       "2     3  128        279       0   28      64     115      1\n",
       "4     5  108        282       0   23      67     125      1\n",
       "5     6  136        286       0   25      62      93      0"
      ]
     },
     "execution_count": 45,
     "metadata": {},
     "output_type": "execute_result"
    }
   ],
   "source": [
    "df.head()"
   ]
  }
 ],
 "metadata": {
  "kernelspec": {
   "display_name": "venv",
   "language": "python",
   "name": "python3"
  },
  "language_info": {
   "codemirror_mode": {
    "name": "ipython",
    "version": 3
   },
   "file_extension": ".py",
   "mimetype": "text/x-python",
   "name": "python",
   "nbconvert_exporter": "python",
   "pygments_lexer": "ipython3",
   "version": "3.10.8"
  },
  "orig_nbformat": 4
 },
 "nbformat": 4,
 "nbformat_minor": 2
}
