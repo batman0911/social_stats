{
 "cells": [
  {
   "attachments": {},
   "cell_type": "markdown",
   "metadata": {},
   "source": [
    "# Hút thuốc khi mang thai và sức khỏe trẻ sơ sinh\n",
    "\n",
    "## Vấn đề / Câu hỏi cần nghiên cứu\n",
    "- Hút thuốc trong thai kì có thể dẫn đến những tổn thương cho thai nhi, sinh non hoặc trẻ bị nhẹ cân khi sinh\n",
    "- Trong bài báo cáo này, chúng ta sẽ so sánh cân nặng của trẻ sơ sinh được sinh ra bởi người mẹ hút thuốc và không hút thuốc để chứng thực cảnh báo của Surgeon General (cảnh báo trên)\n",
    "\n",
    "## Dữ liệu\n",
    "- Dữ liệu được cung cấp là một phần của Child Health and Development Studies (CHDS) - dữ liệu thống kê từ tất cả các ca mang thai từ năm 1960 đến 1967 của phụ nữ thuộc Kaiser Foundation Health Plan, khu vực San Francisco–East Bay\n",
    "- Dữ liệu trong bài này là một phần của tập trên, tính riêng cho vùng Oakland, California\n",
    "\n",
    "## Cơ sở và phương pháp nghiên cứu\n"
   ]
  },
  {
   "attachments": {},
   "cell_type": "markdown",
   "metadata": {},
   "source": [
    "## Câu hỏi"
   ]
  },
  {
   "attachments": {},
   "cell_type": "markdown",
   "metadata": {},
   "source": [
    "### Ex 01"
   ]
  },
  {
   "cell_type": "code",
   "execution_count": 48,
   "metadata": {},
   "outputs": [],
   "source": [
    "import numpy as np"
   ]
  },
  {
   "cell_type": "code",
   "execution_count": 49,
   "metadata": {},
   "outputs": [],
   "source": [
    "\n",
    "labels = [[0, 5], \n",
    "          [5, 10], \n",
    "          [10, 15], \n",
    "          [15, 20], \n",
    "          [20, 30], \n",
    "          [30, 40],\n",
    "          [40, 60]]\n",
    "\n",
    "v = [16, 25, 14, 4, 32, 5, 4]\n",
    "v = [int(round(i/100 * 484, 0)) for i in v]\n",
    "\n",
    "dat = []\n",
    "for i in range(len(labels)):\n",
    "  dat += [i] * v[i]\n",
    "  \n",
    "data = np.array(dat)"
   ]
  },
  {
   "cell_type": "code",
   "execution_count": 50,
   "metadata": {},
   "outputs": [
    {
     "name": "stdout",
     "output_type": "stream",
     "text": [
      "quantile 0.25 \t : \t [5, 10]\n",
      "quantile 0.5 \t : \t [10, 15]\n",
      "quantile 0.75 \t : \t [20, 30]\n"
     ]
    },
    {
     "data": {
      "text/plain": [
       "array([1., 2., 4.])"
      ]
     },
     "execution_count": 50,
     "metadata": {},
     "output_type": "execute_result"
    }
   ],
   "source": [
    "import numpy as np\n",
    "\n",
    "prb = [0.25, 0.5, 0.75]\n",
    "qt = np.quantile(data, prb)\n",
    "for j in range(len(prb)):\n",
    "  print(f'quantile {prb[j]} \\t : \\t {labels[int(qt[j])]}')\n",
    "qt\n"
   ]
  },
  {
   "attachments": {},
   "cell_type": "markdown",
   "metadata": {},
   "source": [
    "### Ex 02"
   ]
  },
  {
   "cell_type": "code",
   "execution_count": null,
   "metadata": {},
   "outputs": [],
   "source": [
    "combine_labels = [[0, 5], \n",
    "          [5, 10], \n",
    "          [10, 15], \n",
    "          [15, 20], \n",
    "          [20, 30], \n",
    "          [30, 40],\n",
    "          [40, 60]]\n",
    "\n",
    "v = [16, 25, 14, 4, 32, 5, 4]\n",
    "v = [int(round(i/100 * 484, 0)) for i in v]\n",
    "\n",
    "dat = []\n",
    "for i in range(len(labels)):\n",
    "  dat += [i] * v[i]\n",
    "  \n",
    "data = np.array(dat)"
   ]
  }
 ],
 "metadata": {
  "kernelspec": {
   "display_name": "venv",
   "language": "python",
   "name": "python3"
  },
  "language_info": {
   "codemirror_mode": {
    "name": "ipython",
    "version": 3
   },
   "file_extension": ".py",
   "mimetype": "text/x-python",
   "name": "python",
   "nbconvert_exporter": "python",
   "pygments_lexer": "ipython3",
   "version": "3.10.8"
  },
  "orig_nbformat": 4
 },
 "nbformat": 4,
 "nbformat_minor": 2
}
