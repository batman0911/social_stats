{
 "cells": [
  {
   "attachments": {},
   "cell_type": "markdown",
   "metadata": {},
   "source": [
    "# Hút thuốc khi mang thai và sức khỏe trẻ sơ sinh\n",
    "\n",
    "## Vấn đề / Câu hỏi cần nghiên cứu\n",
    "- Hút thuốc trong thai kì có thể dẫn đến những tổn thương cho thai nhi, sinh non hoặc trẻ bị nhẹ cân khi sinh\n",
    "- Trong bài báo cáo này, chúng ta sẽ so sánh cân nặng của trẻ sơ sinh được sinh ra bởi người mẹ hút thuốc và không hút thuốc để chứng thực cảnh báo của Surgeon General (cảnh báo trên)\n",
    "\n",
    "## Dữ liệu\n",
    "- Dữ liệu được cung cấp là một phần của Child Health and Development Studies (CHDS) - dữ liệu thống kê từ tất cả các ca mang thai từ năm 1960 đến 1967 của phụ nữ thuộc Kaiser Foundation Health Plan, khu vực San Francisco–East Bay\n",
    "- Dữ liệu trong bài này là một phần của tập trên, tính riêng cho vùng Oakland, California\n",
    "\n",
    "## Cơ sở và phương pháp nghiên cứu\n"
   ]
  },
  {
   "attachments": {},
   "cell_type": "markdown",
   "metadata": {},
   "source": []
  },
  {
   "cell_type": "code",
   "execution_count": 1,
   "metadata": {},
   "outputs": [
    {
     "data": {
      "text/plain": [
       "[77.44, 121.0, 67.76, 19.36, 154.88, 24.200000000000003, 19.36]"
      ]
     },
     "execution_count": 1,
     "metadata": {},
     "output_type": "execute_result"
    }
   ],
   "source": [
    "v = [16, 25, 14, 4, 32, 5, 4]\n",
    "v = [i/100 * 484 for i in v]\n",
    "v"
   ]
  },
  {
   "cell_type": "code",
   "execution_count": 3,
   "metadata": {},
   "outputs": [
    {
     "data": {
      "text/plain": [
       "array([19.36, 19.36, 19.36])"
      ]
     },
     "execution_count": 3,
     "metadata": {},
     "output_type": "execute_result"
    }
   ],
   "source": [
    "import numpy as np\n",
    "\n",
    "np.percentile(v, [0.25, 0.5, 0.75])"
   ]
  }
 ],
 "metadata": {
  "kernelspec": {
   "display_name": "venv",
   "language": "python",
   "name": "python3"
  },
  "language_info": {
   "codemirror_mode": {
    "name": "ipython",
    "version": 3
   },
   "file_extension": ".py",
   "mimetype": "text/x-python",
   "name": "python",
   "nbconvert_exporter": "python",
   "pygments_lexer": "ipython3",
   "version": "3.10.10"
  },
  "orig_nbformat": 4
 },
 "nbformat": 4,
 "nbformat_minor": 2
}
