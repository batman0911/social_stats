{
 "cells": [
  {
   "attachments": {},
   "cell_type": "markdown",
   "metadata": {},
   "source": [
    "# Who plays video games\n",
    "## Vấn đề, câu hỏi cần nghiên cứu\n",
    "Để hỗ trợ việc giảng dạy cho các sinh viên đăng kí khóa thống kê cơ bản tại trường đại học California Berkeley, một nhóm giảng viên và sinh viên đã tốt nghiệp đã thiết kế "
   ]
  },
  {
   "cell_type": "code",
   "execution_count": null,
   "metadata": {
    "vscode": {
     "languageId": "plaintext"
    }
   },
   "outputs": [],
   "source": [
    "import pandas as pd\n",
    "import matplotlib.pyplot as plt"
   ]
  }
 ],
 "metadata": {
  "language_info": {
   "name": "python"
  },
  "orig_nbformat": 4
 },
 "nbformat": 4,
 "nbformat_minor": 2
}
