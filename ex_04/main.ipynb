{
 "cells": [
  {
   "attachments": {},
   "cell_type": "markdown",
   "metadata": {},
   "source": [
    "# Who plays video games\n",
    "\n",
    "## Vấn đề, câu hỏi cần nghiên cứu\n",
    "Để hỗ trợ việc giảng dạy cho các sinh viên đăng kí khóa thống kê cơ bản tại trường đại học California Berkeley, một nhóm giảng viên và sinh viên đã tốt nghiệp đã thiết kế  một loạt phòng máy tính. Phòng thí nghiệm được ví như các trò chơi điện tử mang tính giáo dục. Các sinh viên được khảo sát để xác định mức độ chơi điện tử và khía cạnh nào ở trò chơi mà họ thích nhất hoặc ít thích nhất. Bài này nhằm mục đích phân tích kết quả khảo sát để đưa ra lời khuyên cho nhóm thiết kế phòng thí nghiệm để thiết kế tốt nhất.\n",
    "\n",
    "## Dữ liệu \n",
    "Dữ liệu bao gồm câu trả lời của 91 sinh viên cho khảo sát. Câu trả lời được mã hóa dạng số. Nếu sinh viên không trả lời câu đó hoặc trả lời không đúng cách thì được đánh mã là 99. Tất cả các câu hỏi có dạng \"Có/Không\", được mã hóa 1 cho \"Có\" và 0 cho \"Không\"\n",
    "\n",
    "[Ví dụ một tập quan sát](data/video_game/example.png)\n",
    "\n",
    "[Mô tả câu hỏi và mã hóa](data/video_game/description.png)\n"
   ]
  },
  {
   "cell_type": "code",
   "execution_count": null,
   "metadata": {
    "vscode": {
     "languageId": "plaintext"
    }
   },
   "outputs": [],
   "source": [
    "import pandas as pd\n",
    "import matplotlib.pyplot as plt"
   ]
  }
 ],
 "metadata": {
  "language_info": {
   "name": "python"
  },
  "orig_nbformat": 4
 },
 "nbformat": 4,
 "nbformat_minor": 2
}
